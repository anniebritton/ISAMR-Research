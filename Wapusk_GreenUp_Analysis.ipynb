{
  "nbformat": 4,
  "nbformat_minor": 0,
  "metadata": {
    "colab": {
      "provenance": [],
      "collapsed_sections": [
        "VcbFBjPzmtsa",
        "4Ejrpie0mzrE",
        "niqDk55eiOkE"
      ],
      "authorship_tag": "ABX9TyMIW0I5f37XqSHP+3thp5ZC",
      "include_colab_link": true
    },
    "kernelspec": {
      "name": "python3",
      "display_name": "Python 3"
    },
    "language_info": {
      "name": "python"
    }
  },
  "cells": [
    {
      "cell_type": "markdown",
      "metadata": {
        "id": "view-in-github",
        "colab_type": "text"
      },
      "source": [
        "<a href=\"https://colab.research.google.com/github/anniebritton/ISAMR-Research/blob/main/Wapusk_GreenUp_Analysis.ipynb\" target=\"_parent\"><img src=\"https://colab.research.google.com/assets/colab-badge.svg\" alt=\"Open In Colab\"/></a>"
      ]
    },
    {
      "cell_type": "markdown",
      "source": [
        "# Data Ideas\n",
        "\n",
        "Pull wind speed and direction, sea ice (can play a big role in NDVI), albedo???\n",
        "\n",
        "wget local weather station  - Wapusk\n",
        "\n",
        "https://prairieclimatecentre.ca/about-us/ - modeling out predictions going forward\n",
        "\n",
        "use variables to predict when the caribou would show up - ML"
      ],
      "metadata": {
        "id": "zlRJgnI5qkkp"
      }
    },
    {
      "cell_type": "markdown",
      "source": [
        "# **Colab Set Up**"
      ],
      "metadata": {
        "id": "VcbFBjPzmtsa"
      }
    },
    {
      "cell_type": "code",
      "execution_count": null,
      "metadata": {
        "id": "_mE2KTQGq2PD"
      },
      "outputs": [],
      "source": [
        "# installs and import libraries\n",
        "!pip install earthengine-api\n",
        "!pip install geemap\n",
        "!pip install geopandas \n",
        "!pip install matplotlib\n",
        "!pip install pyshp\n",
        "!pip install pycrs\n",
        "\n",
        "\n",
        "import ee\n",
        "import geemap.foliumap as geemap\n",
        "import shapefile\n",
        "import pycrs\n",
        "import pandas as pd\n",
        "import numpy as np\n",
        "import matplotlib.pyplot as plt\n",
        "import matplotlib.dates as mdates\n",
        "plt.rcParams[\"figure.figsize\"] = (20,3)"
      ]
    },
    {
      "cell_type": "code",
      "source": [
        "# initialise ee, copy and paste the authentication code\n",
        "try:\n",
        "        ee.Initialize()\n",
        "except Exception as e:\n",
        "        ee.Authenticate()\n",
        "        ee.Initialize()"
      ],
      "metadata": {
        "id": "52_AGsuArE8o"
      },
      "execution_count": null,
      "outputs": []
    },
    {
      "cell_type": "code",
      "source": [
        "# mount google drive\n",
        "from google.colab import drive\n",
        "drive.mount('/content/drive')"
      ],
      "metadata": {
        "id": "BUFhgLsMrFQR"
      },
      "execution_count": null,
      "outputs": []
    },
    {
      "cell_type": "markdown",
      "source": [
        "#**Import AOI**"
      ],
      "metadata": {
        "id": "4Ejrpie0mzrE"
      }
    },
    {
      "cell_type": "code",
      "source": [
        "# import and create a variable for the shapefile\n",
        "AOI_path = \"/content/drive/MyDrive/Personal/ISAMR/Shapefiles/Wapusk_Shapefile/wapusk_np_gcs.shp\"\n",
        "\n",
        "# convert the shapefile into an Earth Engine object\n",
        "AOI = geemap.shp_to_ee(AOI_path)\n"
      ],
      "metadata": {
        "id": "HjQ_mjXqrGvr"
      },
      "execution_count": 48,
      "outputs": []
    },
    {
      "cell_type": "code",
      "source": [
        "# Create a Map instance\n",
        "map = geemap.Map()\n",
        "\n",
        "# Add the AOI to the map\n",
        "map.addLayer(AOI, {'color': 'red'}, name='AOI')\n",
        "\n",
        "# Center the map on the AOI\n",
        "map.centerObject(AOI)\n",
        "\n",
        "# Display the map\n",
        "map"
      ],
      "metadata": {
        "id": "M6gMLW0N3_p9"
      },
      "execution_count": null,
      "outputs": []
    },
    {
      "cell_type": "markdown",
      "source": [
        "#**MODIS Masking & NDVI Calculation**"
      ],
      "metadata": {
        "id": "ViyLsXPem35w"
      }
    },
    {
      "cell_type": "code",
      "source": [
        "# First, a function to mask out cloudy pixels\n",
        "def mask_clouds(image):\n",
        "    # Select the QA band\n",
        "    QA = image.select('state_1km')\n",
        "    # Make a mask to get bit 10, the internal cloud algorithm flag bit\n",
        "    bit_mask = 1 << 10\n",
        "    # Return an image masking out cloudy areas\n",
        "    return image.updateMask(QA.bitwiseAnd(bit_mask).eq(0))\n",
        "\n",
        "\n",
        "# Next, a function to mask out pixels with snow\n",
        "def mask_snow(image):\n",
        "    # Select the QA band\n",
        "    QA = image.select('state_1km')\n",
        "    # Make a mask to get bit 15, the internal snow mask bit\n",
        "    bit_mask = 1 << 15\n",
        "    # Return an image masking out snowy areas\n",
        "    return image.updateMask(QA.bitwiseAnd(bit_mask).eq(0))\n",
        "\n",
        "\n",
        "# Get MODIS surface reflectance image collection\n",
        "mod09ga = ee.ImageCollection(\"MODIS/006/MOD09GA\")\n",
        "\n",
        "# Filter image collections by date and apply the mask_clouds and mask_snow functions\n",
        "mod09ga_masked = mod09ga.filterDate('2000-02-27', '2021-12-31').map(mask_clouds)#.map(mask_snow)"
      ],
      "metadata": {
        "id": "hurJxxhJrZs9"
      },
      "execution_count": 161,
      "outputs": []
    },
    {
      "cell_type": "code",
      "source": [
        "# Next, a function to calculate and create a new NDVI band\n",
        "def get_NDVI(imagecol):\n",
        "    ndvi = imagecol.normalizedDifference(['sur_refl_b02', 'sur_refl_b01']).rename(\"NDVI\")\n",
        "    return imagecol.addBands(ndvi).select('NDVI').copyProperties(imagecol)\n",
        "\n",
        "# Add NDVI as a band to the image\n",
        "mod09ga_NDVI = mod09ga_masked.map(get_NDVI)"
      ],
      "metadata": {
        "id": "jYkHLCG2rbMw"
      },
      "execution_count": 162,
      "outputs": []
    },
    {
      "cell_type": "markdown",
      "source": [
        "# **Data Acquisition**"
      ],
      "metadata": {
        "id": "0099fFm-uggn"
      }
    },
    {
      "cell_type": "code",
      "source": [
        "# MODIS NDVI\n",
        "NDVI_list = [mod09ga_NDVI, 'NDVI', AOI, 1000 ]\n",
        "\n",
        "# MODIS Terra Snow Cover Daily Global 500m\n",
        "NDSI_list = [ee.ImageCollection(\"MODIS/006/MOD10A1\").filterDate('2000-02-27','2021-12-31'), 'NDSI_Snow_Cover', AOI, 500]\n",
        "\n",
        "# MOD11A1.061 Terra Land Surface Temperature and Emissivity Daily Global 1km\n",
        "DayLST_list = [ee.ImageCollection(\"MODIS/061/MOD11A1\").filterDate('2000-02-27','2021-12-31'), 'LST_Day_1km', AOI, 1000]\n",
        "NightLST_list = [ee.ImageCollection(\"MODIS/061/MOD11A1\").filterDate('2000-02-27','2021-12-31'), 'LST_Night_1km', AOI, 1000]\n",
        "\n",
        "# Daymet\n",
        "Precip_list = [ee.ImageCollection(\"NASA/ORNL/DAYMET_V4\").filterDate('2000-02-27','2021-12-31'), 'prcp', AOI, 1000]\n",
        "Srad_list = [ee.ImageCollection(\"NASA/ORNL/DAYMET_V4\").filterDate('2000-02-27','2021-12-31'), 'srad', AOI, 1000]\n",
        "SWE_list = [ee.ImageCollection(\"NASA/ORNL/DAYMET_V4\").filterDate('2000-02-27','2021-12-31'), 'swe', AOI, 1000]\n",
        "Tmax_list = [ee.ImageCollection(\"NASA/ORNL/DAYMET_V4\").filterDate('2000-02-27','2021-12-31'), 'tmax', AOI, 1000]\n",
        "Tmin_list = [ee.ImageCollection(\"NASA/ORNL/DAYMET_V4\").filterDate('2000-02-27','2021-12-31'), 'tmin', AOI, 1000]\n",
        "VaporPres_list = [ee.ImageCollection(\"NASA/ORNL/DAYMET_V4\").filterDate('2000-02-27','2021-12-31'), 'vp', AOI, 1000]"
      ],
      "metadata": {
        "id": "ybSrMFkm1_D_"
      },
      "execution_count": 163,
      "outputs": []
    },
    {
      "cell_type": "code",
      "source": [
        "def spatialtimeseries(datalist):\n",
        "  \n",
        "    data = datalist[0]\n",
        "    band = datalist[1]\n",
        "    geometry = datalist[2]\n",
        "    scale = datalist[3]\n",
        "\n",
        "    # reduce the image collection to the area of study and to the correct bands\n",
        "    def aoi_mean(img):\n",
        "        mean = img.reduceRegion(reducer=ee.Reducer.mean(), geometry=geometry, scale=scale).get(band)\n",
        "        return img.set('date', img.date().format()).set('mean', mean)\n",
        "\n",
        "    # Map this function to every image in our collection to get a new \n",
        "    # ImageCollection, but now each image has the mean value for the region of interest and the date. \n",
        "    aoi_reduced_imgs = data.map(aoi_mean)\n",
        "\n",
        "    # Reduce the images to a list of lists:\n",
        "    # for each image, we have a 2-element list that contains that images date and mean value (for our point of interest)\n",
        "    # each of these lists are themselves elements in our outer list, which is what we’ll convert to a dataframe\n",
        "    nested_list = aoi_reduced_imgs.reduceColumns(ee.Reducer.toList(2), ['date','mean']).values().get(0)\n",
        "\n",
        "    # This nested list can be turned into a dataframe using the .DataFrame constructor.\n",
        "    # Call the callback method \"getInfo\" to retrieve the data\n",
        "    df = pd.DataFrame(nested_list.getInfo(), columns=['date','mean'])\n",
        "\n",
        "    # Set the date column to be the index.\n",
        "    df['date'] = pd.to_datetime(df['date']).dt.date\n",
        "    df = df.set_index('date')\n",
        "\n",
        "    return(df)"
      ],
      "metadata": {
        "id": "V30zOX6NgR6r"
      },
      "execution_count": 164,
      "outputs": []
    },
    {
      "cell_type": "code",
      "source": [
        "# MODIS NDVI\n",
        "NDVI_df = spatialtimeseries(NDVI_list)"
      ],
      "metadata": {
        "id": "_97FHEQ5gTVz"
      },
      "execution_count": 165,
      "outputs": []
    },
    {
      "cell_type": "code",
      "source": [
        "# MODIS Terra Snow Cover Daily Global 500m\n",
        "NDSI_df = spatialtimeseries(NDSI_list)"
      ],
      "metadata": {
        "id": "TGwsjGiGixxs"
      },
      "execution_count": 166,
      "outputs": []
    },
    {
      "cell_type": "code",
      "source": [
        "# MOD11A1.061 Terra Land Surface Temperature and Emissivity Daily Global 1km\n",
        "DayLST_df = spatialtimeseries(DayLST_list) \n",
        "NightLST_df = spatialtimeseries(NightLST_list)\n",
        "\n",
        "# Adjust for MODIS temperature scale and convert to C\n",
        "DayLST_df = DayLST_df * 0.02 - 273.15\n",
        "NightLST_df= NightLST_df * 0.02 - 273.15"
      ],
      "metadata": {
        "id": "iEQjQxR_jhkG"
      },
      "execution_count": 167,
      "outputs": []
    },
    {
      "cell_type": "code",
      "source": [
        "# Daymet 1\n",
        "Precip_df = spatialtimeseries(Precip_list)\n",
        "Srad_df = spatialtimeseries(Srad_list)\n",
        "SWE_df = spatialtimeseries(SWE_list)"
      ],
      "metadata": {
        "id": "a7ocZNs_u_H8"
      },
      "execution_count": 168,
      "outputs": []
    },
    {
      "cell_type": "code",
      "source": [
        "# Daymet 2\n",
        "Tmax_df = spatialtimeseries(Tmax_list)\n",
        "Tmin_df = spatialtimeseries(Tmin_list)\n",
        "VaporPres_df = spatialtimeseries(VaporPres_list)"
      ],
      "metadata": {
        "id": "zSIXC4wDvXKz"
      },
      "execution_count": 169,
      "outputs": []
    },
    {
      "cell_type": "code",
      "source": [
        "# Create a list of the dataframe names\n",
        "df_list = [NDVI_df, NDSI_df, DayLST_df, NightLST_df, Precip_df, Srad_df, SWE_df, Tmax_df, Tmin_df, VaporPres_df]\n",
        "\n",
        "# Create a list of the variables names\n",
        "var_names = ['NDVI', 'NDSI', \"DayLST\", \"NightLST\", \"Precip\", \"SolarRad\", \"SWE\", \"Tmax\", \"Tmin\", \"VaporPressure\"]\n",
        "\n",
        "# Create an empty dataframe to fill\n",
        "df_whole = pd.DataFrame()\n",
        "\n",
        "# Set the index to match the index of the data \n",
        "# using tmin because it runs for the full daily series of data\n",
        "df_whole.index = Tmax_df.index\n",
        "\n",
        "# For loop that adds each column to the new df and renames it\n",
        "for i, df in enumerate(df_list):\n",
        "  df_whole[var_names[i]] = df['mean']\n",
        "\n",
        "# reset the index to avoid annoying datetime issues\n",
        "df_whole = df_whole.reset_index()\n",
        "df_whole['date'] = pd.to_datetime(df_whole['date'], utc=True).dt.strftime('%Y-%m-%d')\n",
        "df_whole = df_whole.set_index('date')\n",
        "# df_whole.index = pd.to_datetime(df_whole.index)\n",
        "\n",
        "# interpolate missing values\n",
        "df_whole = df_whole.interpolate(method='linear')\n",
        "df_whole"
      ],
      "metadata": {
        "colab": {
          "base_uri": "https://localhost:8080/",
          "height": 455
        },
        "id": "EnyhIoWWimNU",
        "outputId": "191f4c8e-8564-4b31-90cb-00d2aff0e2a2"
      },
      "execution_count": 182,
      "outputs": [
        {
          "output_type": "execute_result",
          "data": {
            "text/plain": [
              "                NDVI       NDSI     DayLST   NightLST    Precip    SolarRad  \\\n",
              "date                                                                          \n",
              "2000-02-27 -0.048876  76.516149 -11.970387 -18.151989  0.000000  153.667617   \n",
              "2000-02-28 -0.072761  82.846451  -6.160794 -17.650815  0.000000  210.378199   \n",
              "2000-02-29 -0.061857  71.230067 -10.969949 -18.053482  0.065479  141.917274   \n",
              "2000-03-01 -0.066876  73.296511 -11.131869 -12.265676  0.000008  235.579445   \n",
              "2000-03-02 -0.041016  69.512972  -2.359538 -14.285173  0.000000  179.845880   \n",
              "...              ...        ...        ...        ...       ...         ...   \n",
              "2021-12-26 -0.025733  64.503176 -30.551036 -27.056629  0.000000   44.804853   \n",
              "2021-12-27 -0.051404  60.832824 -31.194905 -33.474352  0.000000   41.419877   \n",
              "2021-12-28 -0.045369  62.791685 -31.911936 -32.454444  0.000000   32.320825   \n",
              "2021-12-29 -0.076518  43.504065 -22.266424 -30.266019  1.281344   40.008721   \n",
              "2021-12-30 -0.083428  62.304192 -26.312905 -24.770000  0.345885   37.480861   \n",
              "\n",
              "                  SWE       Tmax       Tmin  VaporPressure  \n",
              "date                                                        \n",
              "2000-02-27  64.911445 -10.784094 -17.797520     150.873357  \n",
              "2000-02-28  64.911445  -4.231809 -15.375307     183.953540  \n",
              "2000-02-29  64.976944  -7.790133 -13.929580     209.196236  \n",
              "2000-03-01  64.976950  -3.164199 -16.269884     168.657866  \n",
              "2000-03-02  64.976950  -0.943830  -8.956282     308.644252  \n",
              "...               ...        ...        ...            ...  \n",
              "2021-12-26  29.105918 -20.152488 -31.748698      42.644328  \n",
              "2021-12-27  29.105918 -23.135591 -32.775185      38.570735  \n",
              "2021-12-28  29.105918 -21.226347 -27.668271      62.752782  \n",
              "2021-12-29  30.387271 -16.126962 -24.632743      82.914692  \n",
              "2021-12-30  30.733167 -17.541628 -24.901237      81.130879  \n",
              "\n",
              "[7972 rows x 10 columns]"
            ],
            "text/html": [
              "\n",
              "  <div id=\"df-3801eb38-6366-4e43-8ead-e0c82ca57282\">\n",
              "    <div class=\"colab-df-container\">\n",
              "      <div>\n",
              "<style scoped>\n",
              "    .dataframe tbody tr th:only-of-type {\n",
              "        vertical-align: middle;\n",
              "    }\n",
              "\n",
              "    .dataframe tbody tr th {\n",
              "        vertical-align: top;\n",
              "    }\n",
              "\n",
              "    .dataframe thead th {\n",
              "        text-align: right;\n",
              "    }\n",
              "</style>\n",
              "<table border=\"1\" class=\"dataframe\">\n",
              "  <thead>\n",
              "    <tr style=\"text-align: right;\">\n",
              "      <th></th>\n",
              "      <th>NDVI</th>\n",
              "      <th>NDSI</th>\n",
              "      <th>DayLST</th>\n",
              "      <th>NightLST</th>\n",
              "      <th>Precip</th>\n",
              "      <th>SolarRad</th>\n",
              "      <th>SWE</th>\n",
              "      <th>Tmax</th>\n",
              "      <th>Tmin</th>\n",
              "      <th>VaporPressure</th>\n",
              "    </tr>\n",
              "    <tr>\n",
              "      <th>date</th>\n",
              "      <th></th>\n",
              "      <th></th>\n",
              "      <th></th>\n",
              "      <th></th>\n",
              "      <th></th>\n",
              "      <th></th>\n",
              "      <th></th>\n",
              "      <th></th>\n",
              "      <th></th>\n",
              "      <th></th>\n",
              "    </tr>\n",
              "  </thead>\n",
              "  <tbody>\n",
              "    <tr>\n",
              "      <th>2000-02-27</th>\n",
              "      <td>-0.048876</td>\n",
              "      <td>76.516149</td>\n",
              "      <td>-11.970387</td>\n",
              "      <td>-18.151989</td>\n",
              "      <td>0.000000</td>\n",
              "      <td>153.667617</td>\n",
              "      <td>64.911445</td>\n",
              "      <td>-10.784094</td>\n",
              "      <td>-17.797520</td>\n",
              "      <td>150.873357</td>\n",
              "    </tr>\n",
              "    <tr>\n",
              "      <th>2000-02-28</th>\n",
              "      <td>-0.072761</td>\n",
              "      <td>82.846451</td>\n",
              "      <td>-6.160794</td>\n",
              "      <td>-17.650815</td>\n",
              "      <td>0.000000</td>\n",
              "      <td>210.378199</td>\n",
              "      <td>64.911445</td>\n",
              "      <td>-4.231809</td>\n",
              "      <td>-15.375307</td>\n",
              "      <td>183.953540</td>\n",
              "    </tr>\n",
              "    <tr>\n",
              "      <th>2000-02-29</th>\n",
              "      <td>-0.061857</td>\n",
              "      <td>71.230067</td>\n",
              "      <td>-10.969949</td>\n",
              "      <td>-18.053482</td>\n",
              "      <td>0.065479</td>\n",
              "      <td>141.917274</td>\n",
              "      <td>64.976944</td>\n",
              "      <td>-7.790133</td>\n",
              "      <td>-13.929580</td>\n",
              "      <td>209.196236</td>\n",
              "    </tr>\n",
              "    <tr>\n",
              "      <th>2000-03-01</th>\n",
              "      <td>-0.066876</td>\n",
              "      <td>73.296511</td>\n",
              "      <td>-11.131869</td>\n",
              "      <td>-12.265676</td>\n",
              "      <td>0.000008</td>\n",
              "      <td>235.579445</td>\n",
              "      <td>64.976950</td>\n",
              "      <td>-3.164199</td>\n",
              "      <td>-16.269884</td>\n",
              "      <td>168.657866</td>\n",
              "    </tr>\n",
              "    <tr>\n",
              "      <th>2000-03-02</th>\n",
              "      <td>-0.041016</td>\n",
              "      <td>69.512972</td>\n",
              "      <td>-2.359538</td>\n",
              "      <td>-14.285173</td>\n",
              "      <td>0.000000</td>\n",
              "      <td>179.845880</td>\n",
              "      <td>64.976950</td>\n",
              "      <td>-0.943830</td>\n",
              "      <td>-8.956282</td>\n",
              "      <td>308.644252</td>\n",
              "    </tr>\n",
              "    <tr>\n",
              "      <th>...</th>\n",
              "      <td>...</td>\n",
              "      <td>...</td>\n",
              "      <td>...</td>\n",
              "      <td>...</td>\n",
              "      <td>...</td>\n",
              "      <td>...</td>\n",
              "      <td>...</td>\n",
              "      <td>...</td>\n",
              "      <td>...</td>\n",
              "      <td>...</td>\n",
              "    </tr>\n",
              "    <tr>\n",
              "      <th>2021-12-26</th>\n",
              "      <td>-0.025733</td>\n",
              "      <td>64.503176</td>\n",
              "      <td>-30.551036</td>\n",
              "      <td>-27.056629</td>\n",
              "      <td>0.000000</td>\n",
              "      <td>44.804853</td>\n",
              "      <td>29.105918</td>\n",
              "      <td>-20.152488</td>\n",
              "      <td>-31.748698</td>\n",
              "      <td>42.644328</td>\n",
              "    </tr>\n",
              "    <tr>\n",
              "      <th>2021-12-27</th>\n",
              "      <td>-0.051404</td>\n",
              "      <td>60.832824</td>\n",
              "      <td>-31.194905</td>\n",
              "      <td>-33.474352</td>\n",
              "      <td>0.000000</td>\n",
              "      <td>41.419877</td>\n",
              "      <td>29.105918</td>\n",
              "      <td>-23.135591</td>\n",
              "      <td>-32.775185</td>\n",
              "      <td>38.570735</td>\n",
              "    </tr>\n",
              "    <tr>\n",
              "      <th>2021-12-28</th>\n",
              "      <td>-0.045369</td>\n",
              "      <td>62.791685</td>\n",
              "      <td>-31.911936</td>\n",
              "      <td>-32.454444</td>\n",
              "      <td>0.000000</td>\n",
              "      <td>32.320825</td>\n",
              "      <td>29.105918</td>\n",
              "      <td>-21.226347</td>\n",
              "      <td>-27.668271</td>\n",
              "      <td>62.752782</td>\n",
              "    </tr>\n",
              "    <tr>\n",
              "      <th>2021-12-29</th>\n",
              "      <td>-0.076518</td>\n",
              "      <td>43.504065</td>\n",
              "      <td>-22.266424</td>\n",
              "      <td>-30.266019</td>\n",
              "      <td>1.281344</td>\n",
              "      <td>40.008721</td>\n",
              "      <td>30.387271</td>\n",
              "      <td>-16.126962</td>\n",
              "      <td>-24.632743</td>\n",
              "      <td>82.914692</td>\n",
              "    </tr>\n",
              "    <tr>\n",
              "      <th>2021-12-30</th>\n",
              "      <td>-0.083428</td>\n",
              "      <td>62.304192</td>\n",
              "      <td>-26.312905</td>\n",
              "      <td>-24.770000</td>\n",
              "      <td>0.345885</td>\n",
              "      <td>37.480861</td>\n",
              "      <td>30.733167</td>\n",
              "      <td>-17.541628</td>\n",
              "      <td>-24.901237</td>\n",
              "      <td>81.130879</td>\n",
              "    </tr>\n",
              "  </tbody>\n",
              "</table>\n",
              "<p>7972 rows × 10 columns</p>\n",
              "</div>\n",
              "      <button class=\"colab-df-convert\" onclick=\"convertToInteractive('df-3801eb38-6366-4e43-8ead-e0c82ca57282')\"\n",
              "              title=\"Convert this dataframe to an interactive table.\"\n",
              "              style=\"display:none;\">\n",
              "        \n",
              "  <svg xmlns=\"http://www.w3.org/2000/svg\" height=\"24px\"viewBox=\"0 0 24 24\"\n",
              "       width=\"24px\">\n",
              "    <path d=\"M0 0h24v24H0V0z\" fill=\"none\"/>\n",
              "    <path d=\"M18.56 5.44l.94 2.06.94-2.06 2.06-.94-2.06-.94-.94-2.06-.94 2.06-2.06.94zm-11 1L8.5 8.5l.94-2.06 2.06-.94-2.06-.94L8.5 2.5l-.94 2.06-2.06.94zm10 10l.94 2.06.94-2.06 2.06-.94-2.06-.94-.94-2.06-.94 2.06-2.06.94z\"/><path d=\"M17.41 7.96l-1.37-1.37c-.4-.4-.92-.59-1.43-.59-.52 0-1.04.2-1.43.59L10.3 9.45l-7.72 7.72c-.78.78-.78 2.05 0 2.83L4 21.41c.39.39.9.59 1.41.59.51 0 1.02-.2 1.41-.59l7.78-7.78 2.81-2.81c.8-.78.8-2.07 0-2.86zM5.41 20L4 18.59l7.72-7.72 1.47 1.35L5.41 20z\"/>\n",
              "  </svg>\n",
              "      </button>\n",
              "      \n",
              "  <style>\n",
              "    .colab-df-container {\n",
              "      display:flex;\n",
              "      flex-wrap:wrap;\n",
              "      gap: 12px;\n",
              "    }\n",
              "\n",
              "    .colab-df-convert {\n",
              "      background-color: #E8F0FE;\n",
              "      border: none;\n",
              "      border-radius: 50%;\n",
              "      cursor: pointer;\n",
              "      display: none;\n",
              "      fill: #1967D2;\n",
              "      height: 32px;\n",
              "      padding: 0 0 0 0;\n",
              "      width: 32px;\n",
              "    }\n",
              "\n",
              "    .colab-df-convert:hover {\n",
              "      background-color: #E2EBFA;\n",
              "      box-shadow: 0px 1px 2px rgba(60, 64, 67, 0.3), 0px 1px 3px 1px rgba(60, 64, 67, 0.15);\n",
              "      fill: #174EA6;\n",
              "    }\n",
              "\n",
              "    [theme=dark] .colab-df-convert {\n",
              "      background-color: #3B4455;\n",
              "      fill: #D2E3FC;\n",
              "    }\n",
              "\n",
              "    [theme=dark] .colab-df-convert:hover {\n",
              "      background-color: #434B5C;\n",
              "      box-shadow: 0px 1px 3px 1px rgba(0, 0, 0, 0.15);\n",
              "      filter: drop-shadow(0px 1px 2px rgba(0, 0, 0, 0.3));\n",
              "      fill: #FFFFFF;\n",
              "    }\n",
              "  </style>\n",
              "\n",
              "      <script>\n",
              "        const buttonEl =\n",
              "          document.querySelector('#df-3801eb38-6366-4e43-8ead-e0c82ca57282 button.colab-df-convert');\n",
              "        buttonEl.style.display =\n",
              "          google.colab.kernel.accessAllowed ? 'block' : 'none';\n",
              "\n",
              "        async function convertToInteractive(key) {\n",
              "          const element = document.querySelector('#df-3801eb38-6366-4e43-8ead-e0c82ca57282');\n",
              "          const dataTable =\n",
              "            await google.colab.kernel.invokeFunction('convertToInteractive',\n",
              "                                                     [key], {});\n",
              "          if (!dataTable) return;\n",
              "\n",
              "          const docLinkHtml = 'Like what you see? Visit the ' +\n",
              "            '<a target=\"_blank\" href=https://colab.research.google.com/notebooks/data_table.ipynb>data table notebook</a>'\n",
              "            + ' to learn more about interactive tables.';\n",
              "          element.innerHTML = '';\n",
              "          dataTable['output_type'] = 'display_data';\n",
              "          await google.colab.output.renderOutput(dataTable, element);\n",
              "          const docLink = document.createElement('div');\n",
              "          docLink.innerHTML = docLinkHtml;\n",
              "          element.appendChild(docLink);\n",
              "        }\n",
              "      </script>\n",
              "    </div>\n",
              "  </div>\n",
              "  "
            ]
          },
          "metadata": {},
          "execution_count": 182
        }
      ]
    },
    {
      "cell_type": "markdown",
      "source": [
        "# **Moving Average Analysis**"
      ],
      "metadata": {
        "id": "-GToDK6N0JPE"
      }
    },
    {
      "cell_type": "code",
      "source": [
        "rolling = df_whole[[\"NDVI\"]].rolling(window=14).max()\n",
        "plt.plot(rolling)"
      ],
      "metadata": {
        "colab": {
          "base_uri": "https://localhost:8080/",
          "height": 308
        },
        "id": "OirzM63TnprX",
        "outputId": "bd589bb8-a193-4cb8-977e-033ec37fe75c"
      },
      "execution_count": 184,
      "outputs": [
        {
          "output_type": "execute_result",
          "data": {
            "text/plain": [
              "[<matplotlib.lines.Line2D at 0x7fd52a8efee0>]"
            ]
          },
          "metadata": {},
          "execution_count": 184
        },
        {
          "output_type": "display_data",
          "data": {
            "text/plain": [
              "<Figure size 2000x300 with 1 Axes>"
            ],
            "image/png": "[encoded data removed]"
          },
          "metadata": {}
        }
      ]
    },
    {
      "cell_type": "code",
      "source": [
        "# Find the date of max NDVI for each year in the DF"
      ],
      "metadata": {
        "id": "0h3HLE8EpatR"
      },
      "execution_count": 117,
      "outputs": []
    },
    {
      "cell_type": "markdown",
      "source": [
        "#**Time Series Decomposition**"
      ],
      "metadata": {
        "id": "Qiz2_Cnz0L66"
      }
    },
    {
      "cell_type": "code",
      "source": [
        "!pip install statsmodels\n",
        "import statsmodels.api as sm"
      ],
      "metadata": {
        "id": "lMbAwl-dyCMh"
      },
      "execution_count": null,
      "outputs": []
    },
    {
      "cell_type": "code",
      "source": [
        "# Load time series data\n",
        "# Assuming you have a time series data stored in a variable called 'time_series_data'\n",
        "# # Set the DataFrame index to be a DateTimeIndex\n",
        "# df = df_whole.reset_index()\n",
        "# df = df.set_index(pd.to_datetime(df['date'])) \n",
        "\n",
        "# # # Specify the frequency of the data (e.g., 'D' for daily, 'M' for monthly, 'Y' for yearly, etc.)\n",
        "# # df.index.freq = 'D'\n",
        "\n",
        "# Perform time series decomposition\n",
        "decomposition = sm.tsa.seasonal_decompose(df_whole[[\"NDVI\"]])\n",
        "\n",
        "# Extract components\n",
        "trend = decomposition.trend\n",
        "seasonal = decomposition.seasonal\n",
        "residual = decomposition.resid\n",
        "\n",
        "# Plot the components\n",
        "import matplotlib.pyplot as plt\n",
        "plt.figure(figsize=(12, 8))\n",
        "plt.subplot(4, 1, 1)\n",
        "plt.plot(time_series_data, label='Original')\n",
        "plt.legend(loc='upper left')\n",
        "plt.subplot(4, 1, 2)\n",
        "plt.plot(trend, label='Trend')\n",
        "plt.legend(loc='upper left')\n",
        "plt.subplot(4, 1, 3)\n",
        "plt.plot(seasonal,label='Seasonal')\n",
        "plt.legend(loc='upper left')\n",
        "plt.subplot(4, 1, 4)\n",
        "plt.plot(residual, label='Residual')\n",
        "plt.legend(loc='upper left')\n",
        "plt.tight_layout()\n",
        "plt.show()"
      ],
      "metadata": {
        "id": "aN20XYSoxVxo"
      },
      "execution_count": null,
      "outputs": []
    },
    {
      "cell_type": "markdown",
      "source": [
        "#**Calculate Anomalies**"
      ],
      "metadata": {
        "id": "niqDk55eiOkE"
      }
    },
    {
      "cell_type": "code",
      "source": [
        "# Function that will calculate the daily mean for each variable and then \n",
        "# subsequently calculate the anomaly for each variable/day\n",
        "def calculate_anomaly(df, value_col):\n",
        "    \n",
        "    # Group the data by day of the year and calculate the average for each day of the year\n",
        "    df_daily_grouping = df.groupby(df.index.dayofyear).mean()\n",
        "\n",
        "    # Create a dictionary mapping day of year to average value\n",
        "    day_of_year_to_mean = df_daily_grouping[value_col].to_dict()\n",
        "\n",
        "    # Map the day of year to the average value for that day of year\n",
        "    df['day_of_year'] = df.index.dayofyear\n",
        "    df[f'day_of_year_{value_col}_mean'] = df['day_of_year'].map(day_of_year_to_mean)\n",
        "\n",
        "    # Calculate the daily anomaly as the difference between the original value and the average value for that day of year\n",
        "    df[f'{value_col}_anomaly'] = df[value_col] - df[f'day_of_year_{value_col}_mean']\n",
        "\n",
        "# NOTE - I am doing this before resampling we want to look at each day of the year here.\n",
        "# If we did this after resampling, because of the way the pentads work, we would have\n",
        "# less data to compare year to year.\n",
        "\n",
        "# Apply the function to each column of the dataframe\n",
        "for col in df_ndvi.columns:\n",
        "    if col != 'date':\n",
        "        calculate_anomaly(df_ndvi, col)"
      ],
      "metadata": {
        "id": "7cf3-H4Iy_Rs"
      },
      "execution_count": null,
      "outputs": []
    },
    {
      "cell_type": "code",
      "source": [
        "# Reduce the dataframe so that it only contains the anomaly data\n",
        "df_anom = df_ndvi[df_ndvi.columns[df_ndvi.columns.str.endswith('_anomaly')]]\n",
        "\n",
        "# Move the NDVI column to the first position in the dataframe\n",
        "df_anom.insert(0, 'NDVI_anomaly', df_anom.pop('NDVI_anomaly'))"
      ],
      "metadata": {
        "id": "jdzt-D2v5alv"
      },
      "execution_count": null,
      "outputs": []
    }
  ]
}